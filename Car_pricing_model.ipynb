{
  "nbformat": 4,
  "nbformat_minor": 0,
  "metadata": {
    "kernelspec": {
      "display_name": "Python 3",
      "language": "python",
      "name": "python3"
    },
    "language_info": {
      "codemirror_mode": {
        "name": "ipython",
        "version": 3
      },
      "file_extension": ".py",
      "mimetype": "text/x-python",
      "name": "python",
      "nbconvert_exporter": "python",
      "pygments_lexer": "ipython3",
      "version": "3.7.6"
    },
    "colab": {
      "name": "Car_pricing_model.ipynb",
      "provenance": [],
      "collapsed_sections": [],
      "include_colab_link": true
    }
  },
  "cells": [
    {
      "cell_type": "markdown",
      "metadata": {
        "id": "view-in-github",
        "colab_type": "text"
      },
      "source": [
        "<a href=\"https://colab.research.google.com/github/Folkas/folkas-portfolio/blob/main/Car_pricing_model.ipynb\" target=\"_parent\"><img src=\"https://colab.research.google.com/assets/colab-badge.svg\" alt=\"Open In Colab\"/></a>"
      ]
    },
    {
      "cell_type": "markdown",
      "metadata": {
        "id": "87dYj2ZcbTlw"
      },
      "source": [
        "# Capstone Project"
      ]
    },
    {
      "cell_type": "markdown",
      "metadata": {
        "id": "4Rptqh3kbTmJ"
      },
      "source": [
        "## Background"
      ]
    },
    {
      "cell_type": "markdown",
      "metadata": {
        "id": "kLjNKgbvbTmL"
      },
      "source": [
        "Woah time really flies and you already reached the last sprint of the second module in the course! You should be proud of yourself. In the past three sprints you were gaining precious knowledge that helped you acquire data engineering skills. Now you should know what good Python code looks like, why OOP is used, how to structure Python project, how to work with SQL, how to develop and deploy web application. All these skills will enable you making outstanding projects that not only cover data analysis and modeling but also making your discoveries reachable to other people.\n",
        "\n",
        "Now the time has come to put all your learnings into one place and complete the second capstone project of the course. During this project you will have to create a Python package, collect dataset using data scraping technique, train model and deploy it for others to reach.\n",
        "\n",
        "Most importantly you will have to create whole E2E Machine Learning plan: establish the problem, collect dataset, train model, evaluate it and deploy it. By completing this project, you will strengthen your data engineering skills and prove to yourself and other that you are capable of planning and executing data science projects."
      ]
    },
    {
      "cell_type": "markdown",
      "metadata": {
        "id": "Ymqn5bpYbTmM"
      },
      "source": [
        "<div style=\"text-align: center;\">\n",
        "<img src=\"https://miro.medium.com/max/700/1*x7P7gqjo8k2_bj2rTQWAfg.jpeg\"/ width=\"300px\">\n",
        "</div>"
      ]
    },
    {
      "cell_type": "markdown",
      "metadata": {
        "id": "krBaVEkbbTmN"
      },
      "source": [
        "---"
      ]
    },
    {
      "cell_type": "markdown",
      "metadata": {
        "id": "0zJbV6A9bTmO"
      },
      "source": [
        "## Requirements\n",
        "The whole capstone project requires you to execute full featured E2E Machine Learning Project so let's see what actually do you have to complete:\n",
        "\n",
        "### Define problem you want to solve\n",
        "This is the part where you have to select a problem. Here are the topics that you can choose from: text classification, price prediction, item category classification. Through the second module of the course you saw a few examples of datasets that could be used to solve these problems (eBay listings, Reddit posts, Twitter tweets). In this stage you have to:\n",
        "- Define the problem and create a short presentation\n",
        "- Explain what do you wan to solve, and what is the potential value of your solution\n",
        "- Define the data source you will collect data from\n",
        "\n",
        "### Collecting data\n",
        "During this stage you will need to create a Python package that is able to scrape specific website. You saw many examples during the period of the second module, where functions that take few arguments (`keywords`, `number of samples`, etc.) and outputs pandas `DataFrame`s were created. Now you will need to transform this functionality into Python package that is installable through pip.\n",
        "- Create Python package that is able to scrape specific webpage\n",
        "- The package should be installable through `pip`\n",
        "- The package should meed all expected Python package standards: clean code, tests, documentation.\n",
        "- Collect and process dataset using your created package\n",
        "\n"
      ]
    },
    {
      "cell_type": "markdown",
      "metadata": {
        "id": "hY2BUnzLiO0a"
      },
      "source": [
        "## Project description \n",
        "\n",
        "This capstone project is dedicated to solve a business problem. Let's say that I'm opening a second-hand car shop. I need to set price for each car, but I don't know its value in the Lithuanian market. Therefore, I'm going to create a model to predict car's price based on several attributes: manufacturing date, engine size (in liters), engine power (in kW), mileage (in km) and whether it has automatic or manual gearbox. My model will use the scraped data from en.autoplius.lt website. The model will help me to evaluate car's value in euros and keep my shop economically sustainable."
      ]
    },
    {
      "cell_type": "code",
      "metadata": {
        "colab": {
          "base_uri": "https://localhost:8080/"
        },
        "id": "I1wFk8vd1ele",
        "outputId": "9b7bf7e4-bc14-4669-d0cf-52a0b7d8e273"
      },
      "source": [
        "!pip install git+https://github.com/Folkas/autoplius-scraper.git"
      ],
      "execution_count": null,
      "outputs": [
        {
          "output_type": "stream",
          "text": [
            "Collecting git+https://github.com/Folkas/autoplius-scraper.git\n",
            "  Cloning https://github.com/Folkas/autoplius-scraper.git to /tmp/pip-req-build-9mghdkeu\n",
            "  Running command git clone -q https://github.com/Folkas/autoplius-scraper.git /tmp/pip-req-build-9mghdkeu\n",
            "Building wheels for collected packages: autoplius-scraper\n",
            "  Building wheel for autoplius-scraper (setup.py) ... \u001b[?25l\u001b[?25hdone\n",
            "  Created wheel for autoplius-scraper: filename=autoplius_scraper-0.0.1-cp36-none-any.whl size=8317 sha256=265366d863c57cd29a077fd3ab5d972302daab986bfa2e7249ad24f86ec7d4af\n",
            "  Stored in directory: /tmp/pip-ephem-wheel-cache-e3q6wa2j/wheels/96/bc/04/407bd5aa8c55645ff1e97b3ab8d33de8efcea433ba559d99b6\n",
            "Successfully built autoplius-scraper\n",
            "Installing collected packages: autoplius-scraper\n",
            "Successfully installed autoplius-scraper-0.0.1\n"
          ],
          "name": "stdout"
        }
      ]
    },
    {
      "cell_type": "code",
      "metadata": {
        "id": "dkgLYINCOaQ0"
      },
      "source": [
        "from function.autoplius_scraper import autoplius_scraper\n",
        "scraper = autoplius_scraper()\n",
        "#scraping 20 ads\n",
        "scraper.multiple_scrapes(20)"
      ],
      "execution_count": null,
      "outputs": []
    },
    {
      "cell_type": "code",
      "metadata": {
        "id": "VUm6H-l8OdBH"
      },
      "source": [
        "#showing ads in pandas DataFrame table\n",
        "scraper.into_pandas()"
      ],
      "execution_count": null,
      "outputs": []
    },
    {
      "cell_type": "markdown",
      "metadata": {
        "id": "eeYHRgNSbTmR"
      },
      "source": [
        "---"
      ]
    },
    {
      "cell_type": "markdown",
      "metadata": {
        "id": "fVpT6wITOUx0"
      },
      "source": [
        "### Training and saving the model\n",
        "During this step you will need to use your collected data to train, test and save machine learning model. Do not spend much time on this step just make sure that:\n",
        "- Correct machine learning algorithm is selected\n",
        "- Model is successfully trained (remember first module of the course)\n",
        "- Model is saved for later deployment\n",
        "\n"
      ]
    },
    {
      "cell_type": "markdown",
      "metadata": {
        "id": "3qrKD8kaUzIs"
      },
      "source": [
        "#EDA"
      ]
    },
    {
      "cell_type": "code",
      "metadata": {
        "colab": {
          "base_uri": "https://localhost:8080/",
          "height": 204
        },
        "id": "AK7CovVIB85d",
        "outputId": "f6293489-6fcb-4ede-a669-84a230ed85ef"
      },
      "source": [
        "import pandas as pd\n",
        "import numpy as np\n",
        "#loading dataset\n",
        "df1 = pd.read_csv(\"autoplius.csv\")\n",
        "df1.head()"
      ],
      "execution_count": null,
      "outputs": [
        {
          "output_type": "execute_result",
          "data": {
            "text/html": [
              "<div>\n",
              "<style scoped>\n",
              "    .dataframe tbody tr th:only-of-type {\n",
              "        vertical-align: middle;\n",
              "    }\n",
              "\n",
              "    .dataframe tbody tr th {\n",
              "        vertical-align: top;\n",
              "    }\n",
              "\n",
              "    .dataframe thead th {\n",
              "        text-align: right;\n",
              "    }\n",
              "</style>\n",
              "<table border=\"1\" class=\"dataframe\">\n",
              "  <thead>\n",
              "    <tr style=\"text-align: right;\">\n",
              "      <th></th>\n",
              "      <th>Marque</th>\n",
              "      <th>CarType</th>\n",
              "      <th>FuelType</th>\n",
              "      <th>Gearbox</th>\n",
              "      <th>ManufacturingDate</th>\n",
              "      <th>Engine_l</th>\n",
              "      <th>Power_kW</th>\n",
              "      <th>Mileage_km</th>\n",
              "      <th>Price_euro</th>\n",
              "    </tr>\n",
              "  </thead>\n",
              "  <tbody>\n",
              "    <tr>\n",
              "      <th>0</th>\n",
              "      <td>Ford Tourneo Custom</td>\n",
              "      <td>commercial</td>\n",
              "      <td>Diesel</td>\n",
              "      <td>Manual</td>\n",
              "      <td>2016</td>\n",
              "      <td>1.5</td>\n",
              "      <td>70.0</td>\n",
              "      <td>188928.0</td>\n",
              "      <td>7550</td>\n",
              "    </tr>\n",
              "    <tr>\n",
              "      <th>1</th>\n",
              "      <td>Peugeot 207</td>\n",
              "      <td>hatchback</td>\n",
              "      <td>Diesel</td>\n",
              "      <td>Manual</td>\n",
              "      <td>2011</td>\n",
              "      <td>1.6</td>\n",
              "      <td>68.0</td>\n",
              "      <td>150000.0</td>\n",
              "      <td>2850</td>\n",
              "    </tr>\n",
              "    <tr>\n",
              "      <th>2</th>\n",
              "      <td>BMW 730</td>\n",
              "      <td>saloon / sedan</td>\n",
              "      <td>Diesel</td>\n",
              "      <td>Automatic</td>\n",
              "      <td>2004</td>\n",
              "      <td>3.0</td>\n",
              "      <td>160.0</td>\n",
              "      <td>303800.0</td>\n",
              "      <td>3200</td>\n",
              "    </tr>\n",
              "    <tr>\n",
              "      <th>3</th>\n",
              "      <td>Ford Mondeo</td>\n",
              "      <td>wagon</td>\n",
              "      <td>Diesel</td>\n",
              "      <td>Manual</td>\n",
              "      <td>2016</td>\n",
              "      <td>1.5</td>\n",
              "      <td>88.0</td>\n",
              "      <td>188987.0</td>\n",
              "      <td>8450</td>\n",
              "    </tr>\n",
              "    <tr>\n",
              "      <th>4</th>\n",
              "      <td>Ford Mondeo</td>\n",
              "      <td>hatchback</td>\n",
              "      <td>Diesel</td>\n",
              "      <td>Manual</td>\n",
              "      <td>2016</td>\n",
              "      <td>1.5</td>\n",
              "      <td>88.0</td>\n",
              "      <td>113090.0</td>\n",
              "      <td>9150</td>\n",
              "    </tr>\n",
              "  </tbody>\n",
              "</table>\n",
              "</div>"
            ],
            "text/plain": [
              "                Marque                  CarType  ... Mileage_km Price_euro\n",
              "0  Ford Tourneo Custom       commercial          ...   188928.0       7550\n",
              "1          Peugeot 207        hatchback          ...   150000.0       2850\n",
              "2              BMW 730   saloon / sedan          ...   303800.0       3200\n",
              "3          Ford Mondeo            wagon          ...   188987.0       8450\n",
              "4          Ford Mondeo        hatchback          ...   113090.0       9150\n",
              "\n",
              "[5 rows x 9 columns]"
            ]
          },
          "metadata": {
            "tags": []
          },
          "execution_count": 65
        }
      ]
    },
    {
      "cell_type": "code",
      "metadata": {
        "colab": {
          "base_uri": "https://localhost:8080/",
          "height": 204
        },
        "id": "0jgRPJwLHvvM",
        "outputId": "225f70df-6099-4f51-e430-8ee331f3cd55"
      },
      "source": [
        "#converting Gearbox into a dummy variable\n",
        "GearboxDummy = pd.get_dummies(df1[[\"Gearbox\"]])\n",
        "GearboxDummy.head()"
      ],
      "execution_count": null,
      "outputs": [
        {
          "output_type": "execute_result",
          "data": {
            "text/html": [
              "<div>\n",
              "<style scoped>\n",
              "    .dataframe tbody tr th:only-of-type {\n",
              "        vertical-align: middle;\n",
              "    }\n",
              "\n",
              "    .dataframe tbody tr th {\n",
              "        vertical-align: top;\n",
              "    }\n",
              "\n",
              "    .dataframe thead th {\n",
              "        text-align: right;\n",
              "    }\n",
              "</style>\n",
              "<table border=\"1\" class=\"dataframe\">\n",
              "  <thead>\n",
              "    <tr style=\"text-align: right;\">\n",
              "      <th></th>\n",
              "      <th>Gearbox_Automatic</th>\n",
              "      <th>Gearbox_Manual</th>\n",
              "    </tr>\n",
              "  </thead>\n",
              "  <tbody>\n",
              "    <tr>\n",
              "      <th>0</th>\n",
              "      <td>0</td>\n",
              "      <td>1</td>\n",
              "    </tr>\n",
              "    <tr>\n",
              "      <th>1</th>\n",
              "      <td>0</td>\n",
              "      <td>1</td>\n",
              "    </tr>\n",
              "    <tr>\n",
              "      <th>2</th>\n",
              "      <td>1</td>\n",
              "      <td>0</td>\n",
              "    </tr>\n",
              "    <tr>\n",
              "      <th>3</th>\n",
              "      <td>0</td>\n",
              "      <td>1</td>\n",
              "    </tr>\n",
              "    <tr>\n",
              "      <th>4</th>\n",
              "      <td>0</td>\n",
              "      <td>1</td>\n",
              "    </tr>\n",
              "  </tbody>\n",
              "</table>\n",
              "</div>"
            ],
            "text/plain": [
              "   Gearbox_Automatic  Gearbox_Manual\n",
              "0                  0               1\n",
              "1                  0               1\n",
              "2                  1               0\n",
              "3                  0               1\n",
              "4                  0               1"
            ]
          },
          "metadata": {
            "tags": []
          },
          "execution_count": 66
        }
      ]
    },
    {
      "cell_type": "code",
      "metadata": {
        "colab": {
          "base_uri": "https://localhost:8080/",
          "height": 419
        },
        "id": "Fc-8EB_WGXD0",
        "outputId": "2e827ae6-e508-4dd9-867f-995e35dadd43"
      },
      "source": [
        "#altering the dataset\n",
        "df1 = pd.concat([df1, GearboxDummy], axis=1).drop([\"Gearbox\", \"Marque\", \"CarType\", \"FuelType\"], axis=1)\n",
        "df1"
      ],
      "execution_count": null,
      "outputs": [
        {
          "output_type": "execute_result",
          "data": {
            "text/html": [
              "<div>\n",
              "<style scoped>\n",
              "    .dataframe tbody tr th:only-of-type {\n",
              "        vertical-align: middle;\n",
              "    }\n",
              "\n",
              "    .dataframe tbody tr th {\n",
              "        vertical-align: top;\n",
              "    }\n",
              "\n",
              "    .dataframe thead th {\n",
              "        text-align: right;\n",
              "    }\n",
              "</style>\n",
              "<table border=\"1\" class=\"dataframe\">\n",
              "  <thead>\n",
              "    <tr style=\"text-align: right;\">\n",
              "      <th></th>\n",
              "      <th>ManufacturingDate</th>\n",
              "      <th>Engine_l</th>\n",
              "      <th>Power_kW</th>\n",
              "      <th>Mileage_km</th>\n",
              "      <th>Price_euro</th>\n",
              "      <th>Gearbox_Automatic</th>\n",
              "      <th>Gearbox_Manual</th>\n",
              "    </tr>\n",
              "  </thead>\n",
              "  <tbody>\n",
              "    <tr>\n",
              "      <th>0</th>\n",
              "      <td>2016</td>\n",
              "      <td>1.5</td>\n",
              "      <td>70.0</td>\n",
              "      <td>188928.0</td>\n",
              "      <td>7550</td>\n",
              "      <td>0</td>\n",
              "      <td>1</td>\n",
              "    </tr>\n",
              "    <tr>\n",
              "      <th>1</th>\n",
              "      <td>2011</td>\n",
              "      <td>1.6</td>\n",
              "      <td>68.0</td>\n",
              "      <td>150000.0</td>\n",
              "      <td>2850</td>\n",
              "      <td>0</td>\n",
              "      <td>1</td>\n",
              "    </tr>\n",
              "    <tr>\n",
              "      <th>2</th>\n",
              "      <td>2004</td>\n",
              "      <td>3.0</td>\n",
              "      <td>160.0</td>\n",
              "      <td>303800.0</td>\n",
              "      <td>3200</td>\n",
              "      <td>1</td>\n",
              "      <td>0</td>\n",
              "    </tr>\n",
              "    <tr>\n",
              "      <th>3</th>\n",
              "      <td>2016</td>\n",
              "      <td>1.5</td>\n",
              "      <td>88.0</td>\n",
              "      <td>188987.0</td>\n",
              "      <td>8450</td>\n",
              "      <td>0</td>\n",
              "      <td>1</td>\n",
              "    </tr>\n",
              "    <tr>\n",
              "      <th>4</th>\n",
              "      <td>2016</td>\n",
              "      <td>1.5</td>\n",
              "      <td>88.0</td>\n",
              "      <td>113090.0</td>\n",
              "      <td>9150</td>\n",
              "      <td>0</td>\n",
              "      <td>1</td>\n",
              "    </tr>\n",
              "    <tr>\n",
              "      <th>...</th>\n",
              "      <td>...</td>\n",
              "      <td>...</td>\n",
              "      <td>...</td>\n",
              "      <td>...</td>\n",
              "      <td>...</td>\n",
              "      <td>...</td>\n",
              "      <td>...</td>\n",
              "    </tr>\n",
              "    <tr>\n",
              "      <th>4995</th>\n",
              "      <td>2006</td>\n",
              "      <td>1.6</td>\n",
              "      <td>79.0</td>\n",
              "      <td>154000.0</td>\n",
              "      <td>1299</td>\n",
              "      <td>0</td>\n",
              "      <td>1</td>\n",
              "    </tr>\n",
              "    <tr>\n",
              "      <th>4996</th>\n",
              "      <td>2005</td>\n",
              "      <td>1.8</td>\n",
              "      <td>85.0</td>\n",
              "      <td>255000.0</td>\n",
              "      <td>1299</td>\n",
              "      <td>1</td>\n",
              "      <td>0</td>\n",
              "    </tr>\n",
              "    <tr>\n",
              "      <th>4997</th>\n",
              "      <td>2003</td>\n",
              "      <td>1.9</td>\n",
              "      <td>88.0</td>\n",
              "      <td>235000.0</td>\n",
              "      <td>1299</td>\n",
              "      <td>0</td>\n",
              "      <td>1</td>\n",
              "    </tr>\n",
              "    <tr>\n",
              "      <th>4998</th>\n",
              "      <td>2002</td>\n",
              "      <td>2.4</td>\n",
              "      <td>103.0</td>\n",
              "      <td>287000.0</td>\n",
              "      <td>1299</td>\n",
              "      <td>1</td>\n",
              "      <td>0</td>\n",
              "    </tr>\n",
              "    <tr>\n",
              "      <th>4999</th>\n",
              "      <td>2004</td>\n",
              "      <td>2.5</td>\n",
              "      <td>120.0</td>\n",
              "      <td>300000.0</td>\n",
              "      <td>1299</td>\n",
              "      <td>0</td>\n",
              "      <td>1</td>\n",
              "    </tr>\n",
              "  </tbody>\n",
              "</table>\n",
              "<p>5000 rows × 7 columns</p>\n",
              "</div>"
            ],
            "text/plain": [
              "      ManufacturingDate Engine_l  ...  Gearbox_Automatic  Gearbox_Manual\n",
              "0                  2016      1.5  ...                  0               1\n",
              "1                  2011      1.6  ...                  0               1\n",
              "2                  2004      3.0  ...                  1               0\n",
              "3                  2016      1.5  ...                  0               1\n",
              "4                  2016      1.5  ...                  0               1\n",
              "...                 ...      ...  ...                ...             ...\n",
              "4995               2006      1.6  ...                  0               1\n",
              "4996               2005      1.8  ...                  1               0\n",
              "4997               2003      1.9  ...                  0               1\n",
              "4998               2002      2.4  ...                  1               0\n",
              "4999               2004      2.5  ...                  0               1\n",
              "\n",
              "[5000 rows x 7 columns]"
            ]
          },
          "metadata": {
            "tags": []
          },
          "execution_count": 67
        }
      ]
    },
    {
      "cell_type": "code",
      "metadata": {
        "colab": {
          "base_uri": "https://localhost:8080/"
        },
        "id": "oyLLiJzxRpSL",
        "outputId": "ce757cf9-814f-445a-bd08-4c2a0dda1550"
      },
      "source": [
        "#checking for wrong values\n",
        "df1.Engine_l.unique()"
      ],
      "execution_count": null,
      "outputs": [
        {
          "output_type": "execute_result",
          "data": {
            "text/plain": [
              "array(['1.5', '1.6', '3.0', '2.0', 'wagon', '2.4', '3.2', '1.3', '2.2',\n",
              "       '1.0', '1.2', '2.9', '1.9', '4.0', '1.4', '2.5', '6.0', '4.4',\n",
              "       '1.8', '2.7', '0.3', '1.7', '2.1', '5.0', '3.5', '3.6', 'pick-up',\n",
              "       '2.8', '2.3', '0.4', 'mpv', 'saloon', '0.9', 'suv', '3.3', '4.5',\n",
              "       '4.3', '4.9', 'hatchback', 'passenger', '3.7', '4.7', '5.4', '5.5',\n",
              "       '4.8', '5.7', '4.2', '5.6', '0.7', 'commercial', '0.2', '2.6',\n",
              "       '4.6', '6.2', 'coupe', '6.9', '3.8', '1.1', '0.6', '3.1', 'other',\n",
              "       '0.8'], dtype=object)"
            ]
          },
          "metadata": {
            "tags": []
          },
          "execution_count": 68
        }
      ]
    },
    {
      "cell_type": "code",
      "metadata": {
        "colab": {
          "base_uri": "https://localhost:8080/"
        },
        "id": "s_3RWNMeNroC",
        "outputId": "e8821793-b27b-4d89-92b0-25746a408185"
      },
      "source": [
        "#deleting rows with wrong values from the dataframe (227 rows)\n",
        "engine_str = [\"wagon\", \"mpv\", \"pick-up\", \"saloon\", \"suv\", \"hatchback\", \"passenger\", \"commercial\", \"coupe\", \"other\"]\n",
        "df1 = df1[~df1[\"Engine_l\"].isin(engine_str)]\n",
        "\n",
        "#converting Engine_l into float variable\n",
        "df1.Engine_l = df1.Engine_l.astype(\"float\")\n"
      ],
      "execution_count": null,
      "outputs": [
        {
          "output_type": "stream",
          "text": [
            "/usr/local/lib/python3.6/dist-packages/pandas/core/generic.py:5170: SettingWithCopyWarning: \n",
            "A value is trying to be set on a copy of a slice from a DataFrame.\n",
            "Try using .loc[row_indexer,col_indexer] = value instead\n",
            "\n",
            "See the caveats in the documentation: https://pandas.pydata.org/pandas-docs/stable/user_guide/indexing.html#returning-a-view-versus-a-copy\n",
            "  self[name] = value\n"
          ],
          "name": "stderr"
        }
      ]
    },
    {
      "cell_type": "code",
      "metadata": {
        "colab": {
          "base_uri": "https://localhost:8080/"
        },
        "id": "MN2xwL5GpuHe",
        "outputId": "85584fe6-305b-4340-eb24-18a1f0a4afef"
      },
      "source": [
        "#checking for null values\n",
        "df1.isnull().any()"
      ],
      "execution_count": null,
      "outputs": [
        {
          "output_type": "execute_result",
          "data": {
            "text/plain": [
              "ManufacturingDate    False\n",
              "Engine_l             False\n",
              "Power_kW              True\n",
              "Mileage_km            True\n",
              "Price_euro           False\n",
              "Gearbox_Automatic    False\n",
              "Gearbox_Manual       False\n",
              "dtype: bool"
            ]
          },
          "metadata": {
            "tags": []
          },
          "execution_count": 70
        }
      ]
    },
    {
      "cell_type": "code",
      "metadata": {
        "id": "8pXKQj85mEtj"
      },
      "source": [
        "#deleting rows with Na values\n",
        "df1=df1.dropna()"
      ],
      "execution_count": null,
      "outputs": []
    },
    {
      "cell_type": "code",
      "metadata": {
        "colab": {
          "base_uri": "https://localhost:8080/",
          "height": 297
        },
        "id": "azbGOF7NUpi2",
        "outputId": "bb7b225c-3329-4354-fb4e-75116f1fa297"
      },
      "source": [
        "df1.describe()"
      ],
      "execution_count": null,
      "outputs": [
        {
          "output_type": "execute_result",
          "data": {
            "text/html": [
              "<div>\n",
              "<style scoped>\n",
              "    .dataframe tbody tr th:only-of-type {\n",
              "        vertical-align: middle;\n",
              "    }\n",
              "\n",
              "    .dataframe tbody tr th {\n",
              "        vertical-align: top;\n",
              "    }\n",
              "\n",
              "    .dataframe thead th {\n",
              "        text-align: right;\n",
              "    }\n",
              "</style>\n",
              "<table border=\"1\" class=\"dataframe\">\n",
              "  <thead>\n",
              "    <tr style=\"text-align: right;\">\n",
              "      <th></th>\n",
              "      <th>ManufacturingDate</th>\n",
              "      <th>Engine_l</th>\n",
              "      <th>Power_kW</th>\n",
              "      <th>Mileage_km</th>\n",
              "      <th>Price_euro</th>\n",
              "      <th>Gearbox_Automatic</th>\n",
              "      <th>Gearbox_Manual</th>\n",
              "    </tr>\n",
              "  </thead>\n",
              "  <tbody>\n",
              "    <tr>\n",
              "      <th>count</th>\n",
              "      <td>4014.000000</td>\n",
              "      <td>4014.000000</td>\n",
              "      <td>4014.000000</td>\n",
              "      <td>4.014000e+03</td>\n",
              "      <td>4014.000000</td>\n",
              "      <td>4014.000000</td>\n",
              "      <td>4014.000000</td>\n",
              "    </tr>\n",
              "    <tr>\n",
              "      <th>mean</th>\n",
              "      <td>2005.786248</td>\n",
              "      <td>1.990907</td>\n",
              "      <td>100.038117</td>\n",
              "      <td>2.333831e+05</td>\n",
              "      <td>4357.484803</td>\n",
              "      <td>0.305680</td>\n",
              "      <td>0.694320</td>\n",
              "    </tr>\n",
              "    <tr>\n",
              "      <th>std</th>\n",
              "      <td>5.711753</td>\n",
              "      <td>0.572059</td>\n",
              "      <td>58.376151</td>\n",
              "      <td>1.385312e+05</td>\n",
              "      <td>7426.231354</td>\n",
              "      <td>0.460752</td>\n",
              "      <td>0.460752</td>\n",
              "    </tr>\n",
              "    <tr>\n",
              "      <th>min</th>\n",
              "      <td>1968.000000</td>\n",
              "      <td>0.200000</td>\n",
              "      <td>4.000000</td>\n",
              "      <td>0.000000e+00</td>\n",
              "      <td>1.000000</td>\n",
              "      <td>0.000000</td>\n",
              "      <td>0.000000</td>\n",
              "    </tr>\n",
              "    <tr>\n",
              "      <th>25%</th>\n",
              "      <td>2002.000000</td>\n",
              "      <td>1.600000</td>\n",
              "      <td>74.000000</td>\n",
              "      <td>1.745125e+05</td>\n",
              "      <td>1054.000000</td>\n",
              "      <td>0.000000</td>\n",
              "      <td>0.000000</td>\n",
              "    </tr>\n",
              "    <tr>\n",
              "      <th>50%</th>\n",
              "      <td>2005.000000</td>\n",
              "      <td>2.000000</td>\n",
              "      <td>90.000000</td>\n",
              "      <td>2.358250e+05</td>\n",
              "      <td>1299.000000</td>\n",
              "      <td>0.000000</td>\n",
              "      <td>1.000000</td>\n",
              "    </tr>\n",
              "    <tr>\n",
              "      <th>75%</th>\n",
              "      <td>2009.000000</td>\n",
              "      <td>2.200000</td>\n",
              "      <td>112.000000</td>\n",
              "      <td>2.870000e+05</td>\n",
              "      <td>4700.000000</td>\n",
              "      <td>1.000000</td>\n",
              "      <td>1.000000</td>\n",
              "    </tr>\n",
              "    <tr>\n",
              "      <th>max</th>\n",
              "      <td>2021.000000</td>\n",
              "      <td>6.200000</td>\n",
              "      <td>2656.000000</td>\n",
              "      <td>3.300000e+06</td>\n",
              "      <td>129900.000000</td>\n",
              "      <td>1.000000</td>\n",
              "      <td>1.000000</td>\n",
              "    </tr>\n",
              "  </tbody>\n",
              "</table>\n",
              "</div>"
            ],
            "text/plain": [
              "       ManufacturingDate     Engine_l  ...  Gearbox_Automatic  Gearbox_Manual\n",
              "count        4014.000000  4014.000000  ...        4014.000000     4014.000000\n",
              "mean         2005.786248     1.990907  ...           0.305680        0.694320\n",
              "std             5.711753     0.572059  ...           0.460752        0.460752\n",
              "min          1968.000000     0.200000  ...           0.000000        0.000000\n",
              "25%          2002.000000     1.600000  ...           0.000000        0.000000\n",
              "50%          2005.000000     2.000000  ...           0.000000        1.000000\n",
              "75%          2009.000000     2.200000  ...           1.000000        1.000000\n",
              "max          2021.000000     6.200000  ...           1.000000        1.000000\n",
              "\n",
              "[8 rows x 7 columns]"
            ]
          },
          "metadata": {
            "tags": []
          },
          "execution_count": 72
        }
      ]
    },
    {
      "cell_type": "code",
      "metadata": {
        "id": "Jl6cHS12rUAp"
      },
      "source": [
        "df1 = df1.reset_index(drop=True)"
      ],
      "execution_count": null,
      "outputs": []
    },
    {
      "cell_type": "code",
      "metadata": {
        "id": "e7VNt0idrZzY",
        "colab": {
          "base_uri": "https://localhost:8080/",
          "height": 419
        },
        "outputId": "c9ee37be-12cd-4881-d1cf-5173a82b25a6"
      },
      "source": [
        "df1"
      ],
      "execution_count": null,
      "outputs": [
        {
          "output_type": "execute_result",
          "data": {
            "text/html": [
              "<div>\n",
              "<style scoped>\n",
              "    .dataframe tbody tr th:only-of-type {\n",
              "        vertical-align: middle;\n",
              "    }\n",
              "\n",
              "    .dataframe tbody tr th {\n",
              "        vertical-align: top;\n",
              "    }\n",
              "\n",
              "    .dataframe thead th {\n",
              "        text-align: right;\n",
              "    }\n",
              "</style>\n",
              "<table border=\"1\" class=\"dataframe\">\n",
              "  <thead>\n",
              "    <tr style=\"text-align: right;\">\n",
              "      <th></th>\n",
              "      <th>ManufacturingDate</th>\n",
              "      <th>Engine_l</th>\n",
              "      <th>Power_kW</th>\n",
              "      <th>Mileage_km</th>\n",
              "      <th>Price_euro</th>\n",
              "      <th>Gearbox_Automatic</th>\n",
              "      <th>Gearbox_Manual</th>\n",
              "    </tr>\n",
              "  </thead>\n",
              "  <tbody>\n",
              "    <tr>\n",
              "      <th>0</th>\n",
              "      <td>2016</td>\n",
              "      <td>1.5</td>\n",
              "      <td>70.0</td>\n",
              "      <td>188928.0</td>\n",
              "      <td>7550</td>\n",
              "      <td>0</td>\n",
              "      <td>1</td>\n",
              "    </tr>\n",
              "    <tr>\n",
              "      <th>1</th>\n",
              "      <td>2011</td>\n",
              "      <td>1.6</td>\n",
              "      <td>68.0</td>\n",
              "      <td>150000.0</td>\n",
              "      <td>2850</td>\n",
              "      <td>0</td>\n",
              "      <td>1</td>\n",
              "    </tr>\n",
              "    <tr>\n",
              "      <th>2</th>\n",
              "      <td>2004</td>\n",
              "      <td>3.0</td>\n",
              "      <td>160.0</td>\n",
              "      <td>303800.0</td>\n",
              "      <td>3200</td>\n",
              "      <td>1</td>\n",
              "      <td>0</td>\n",
              "    </tr>\n",
              "    <tr>\n",
              "      <th>3</th>\n",
              "      <td>2016</td>\n",
              "      <td>1.5</td>\n",
              "      <td>88.0</td>\n",
              "      <td>188987.0</td>\n",
              "      <td>8450</td>\n",
              "      <td>0</td>\n",
              "      <td>1</td>\n",
              "    </tr>\n",
              "    <tr>\n",
              "      <th>4</th>\n",
              "      <td>2016</td>\n",
              "      <td>1.5</td>\n",
              "      <td>88.0</td>\n",
              "      <td>113090.0</td>\n",
              "      <td>9150</td>\n",
              "      <td>0</td>\n",
              "      <td>1</td>\n",
              "    </tr>\n",
              "    <tr>\n",
              "      <th>...</th>\n",
              "      <td>...</td>\n",
              "      <td>...</td>\n",
              "      <td>...</td>\n",
              "      <td>...</td>\n",
              "      <td>...</td>\n",
              "      <td>...</td>\n",
              "      <td>...</td>\n",
              "    </tr>\n",
              "    <tr>\n",
              "      <th>4009</th>\n",
              "      <td>2006</td>\n",
              "      <td>1.6</td>\n",
              "      <td>79.0</td>\n",
              "      <td>154000.0</td>\n",
              "      <td>1299</td>\n",
              "      <td>0</td>\n",
              "      <td>1</td>\n",
              "    </tr>\n",
              "    <tr>\n",
              "      <th>4010</th>\n",
              "      <td>2005</td>\n",
              "      <td>1.8</td>\n",
              "      <td>85.0</td>\n",
              "      <td>255000.0</td>\n",
              "      <td>1299</td>\n",
              "      <td>1</td>\n",
              "      <td>0</td>\n",
              "    </tr>\n",
              "    <tr>\n",
              "      <th>4011</th>\n",
              "      <td>2003</td>\n",
              "      <td>1.9</td>\n",
              "      <td>88.0</td>\n",
              "      <td>235000.0</td>\n",
              "      <td>1299</td>\n",
              "      <td>0</td>\n",
              "      <td>1</td>\n",
              "    </tr>\n",
              "    <tr>\n",
              "      <th>4012</th>\n",
              "      <td>2002</td>\n",
              "      <td>2.4</td>\n",
              "      <td>103.0</td>\n",
              "      <td>287000.0</td>\n",
              "      <td>1299</td>\n",
              "      <td>1</td>\n",
              "      <td>0</td>\n",
              "    </tr>\n",
              "    <tr>\n",
              "      <th>4013</th>\n",
              "      <td>2004</td>\n",
              "      <td>2.5</td>\n",
              "      <td>120.0</td>\n",
              "      <td>300000.0</td>\n",
              "      <td>1299</td>\n",
              "      <td>0</td>\n",
              "      <td>1</td>\n",
              "    </tr>\n",
              "  </tbody>\n",
              "</table>\n",
              "<p>4014 rows × 7 columns</p>\n",
              "</div>"
            ],
            "text/plain": [
              "      ManufacturingDate  Engine_l  ...  Gearbox_Automatic  Gearbox_Manual\n",
              "0                  2016       1.5  ...                  0               1\n",
              "1                  2011       1.6  ...                  0               1\n",
              "2                  2004       3.0  ...                  1               0\n",
              "3                  2016       1.5  ...                  0               1\n",
              "4                  2016       1.5  ...                  0               1\n",
              "...                 ...       ...  ...                ...             ...\n",
              "4009               2006       1.6  ...                  0               1\n",
              "4010               2005       1.8  ...                  1               0\n",
              "4011               2003       1.9  ...                  0               1\n",
              "4012               2002       2.4  ...                  1               0\n",
              "4013               2004       2.5  ...                  0               1\n",
              "\n",
              "[4014 rows x 7 columns]"
            ]
          },
          "metadata": {
            "tags": []
          },
          "execution_count": 74
        }
      ]
    },
    {
      "cell_type": "markdown",
      "metadata": {
        "id": "dOFT8fJxiRjs"
      },
      "source": [
        "## Standard scaling"
      ]
    },
    {
      "cell_type": "code",
      "metadata": {
        "id": "YcZLsjWuiWw9",
        "colab": {
          "base_uri": "https://localhost:8080/"
        },
        "outputId": "f71edda2-ada0-46a6-cc6f-b4a8a19e9f7b"
      },
      "source": [
        "from sklearn.model_selection import train_test_split\n",
        "from sklearn.linear_model import LinearRegression\n",
        "from sklearn.metrics import mean_squared_error, r2_score\n",
        "from sklearn.preprocessing import StandardScaler\n",
        "import pickle\n",
        "\n",
        "#scaling only features\n",
        "scaler = StandardScaler()\n",
        "\n",
        "features = [\"ManufacturingDate\", \"Engine_l\", \"Power_kW\", \"Mileage_km\", \"Gearbox_Automatic\", \"Gearbox_Manual\"]\n",
        "\n",
        "scaled_features = pd.DataFrame(scaler.fit_transform(df1[features]), columns=features)"
      ],
      "execution_count": null,
      "outputs": [
        {
          "output_type": "execute_result",
          "data": {
            "text/plain": [
              "(4014,)"
            ]
          },
          "metadata": {
            "tags": []
          },
          "execution_count": 76
        }
      ]
    },
    {
      "cell_type": "code",
      "metadata": {
        "id": "3qLXWsFYouZj"
      },
      "source": [
        "data = pd.concat([scaled_features, df1.Price_euro], axis=1)"
      ],
      "execution_count": null,
      "outputs": []
    },
    {
      "cell_type": "code",
      "metadata": {
        "id": "vxozqUyjmHcA",
        "colab": {
          "base_uri": "https://localhost:8080/",
          "height": 419
        },
        "outputId": "0a6a31ff-d51f-4909-8e79-3f08c7e4c125"
      },
      "source": [
        "data.describe()"
      ],
      "execution_count": null,
      "outputs": [
        {
          "output_type": "execute_result",
          "data": {
            "text/html": [
              "<div>\n",
              "<style scoped>\n",
              "    .dataframe tbody tr th:only-of-type {\n",
              "        vertical-align: middle;\n",
              "    }\n",
              "\n",
              "    .dataframe tbody tr th {\n",
              "        vertical-align: top;\n",
              "    }\n",
              "\n",
              "    .dataframe thead th {\n",
              "        text-align: right;\n",
              "    }\n",
              "</style>\n",
              "<table border=\"1\" class=\"dataframe\">\n",
              "  <thead>\n",
              "    <tr style=\"text-align: right;\">\n",
              "      <th></th>\n",
              "      <th>ManufacturingDate</th>\n",
              "      <th>Engine_l</th>\n",
              "      <th>Power_kW</th>\n",
              "      <th>Mileage_km</th>\n",
              "      <th>Gearbox_Automatic</th>\n",
              "      <th>Gearbox_Manual</th>\n",
              "    </tr>\n",
              "  </thead>\n",
              "  <tbody>\n",
              "    <tr>\n",
              "      <th>0</th>\n",
              "      <td>1.788422</td>\n",
              "      <td>-0.858248</td>\n",
              "      <td>-0.514626</td>\n",
              "      <td>-0.320943</td>\n",
              "      <td>-0.663520</td>\n",
              "      <td>0.663520</td>\n",
              "    </tr>\n",
              "    <tr>\n",
              "      <th>1</th>\n",
              "      <td>0.912925</td>\n",
              "      <td>-0.683419</td>\n",
              "      <td>-0.548890</td>\n",
              "      <td>-0.601983</td>\n",
              "      <td>-0.663520</td>\n",
              "      <td>0.663520</td>\n",
              "    </tr>\n",
              "    <tr>\n",
              "      <th>2</th>\n",
              "      <td>-0.312771</td>\n",
              "      <td>1.764188</td>\n",
              "      <td>1.027292</td>\n",
              "      <td>0.508374</td>\n",
              "      <td>1.507114</td>\n",
              "      <td>-1.507114</td>\n",
              "    </tr>\n",
              "    <tr>\n",
              "      <th>3</th>\n",
              "      <td>1.788422</td>\n",
              "      <td>-0.858248</td>\n",
              "      <td>-0.206242</td>\n",
              "      <td>-0.320517</td>\n",
              "      <td>-0.663520</td>\n",
              "      <td>0.663520</td>\n",
              "    </tr>\n",
              "    <tr>\n",
              "      <th>4</th>\n",
              "      <td>1.788422</td>\n",
              "      <td>-0.858248</td>\n",
              "      <td>-0.206242</td>\n",
              "      <td>-0.868455</td>\n",
              "      <td>-0.663520</td>\n",
              "      <td>0.663520</td>\n",
              "    </tr>\n",
              "    <tr>\n",
              "      <th>...</th>\n",
              "      <td>...</td>\n",
              "      <td>...</td>\n",
              "      <td>...</td>\n",
              "      <td>...</td>\n",
              "      <td>...</td>\n",
              "      <td>...</td>\n",
              "    </tr>\n",
              "    <tr>\n",
              "      <th>4009</th>\n",
              "      <td>0.037428</td>\n",
              "      <td>-0.683419</td>\n",
              "      <td>-0.360434</td>\n",
              "      <td>-0.573105</td>\n",
              "      <td>-0.663520</td>\n",
              "      <td>0.663520</td>\n",
              "    </tr>\n",
              "    <tr>\n",
              "      <th>4010</th>\n",
              "      <td>-0.137672</td>\n",
              "      <td>-0.333761</td>\n",
              "      <td>-0.257639</td>\n",
              "      <td>0.156063</td>\n",
              "      <td>1.507114</td>\n",
              "      <td>-1.507114</td>\n",
              "    </tr>\n",
              "    <tr>\n",
              "      <th>4011</th>\n",
              "      <td>-0.487870</td>\n",
              "      <td>-0.158932</td>\n",
              "      <td>-0.206242</td>\n",
              "      <td>0.011673</td>\n",
              "      <td>-0.663520</td>\n",
              "      <td>0.663520</td>\n",
              "    </tr>\n",
              "    <tr>\n",
              "      <th>4012</th>\n",
              "      <td>-0.662970</td>\n",
              "      <td>0.715214</td>\n",
              "      <td>0.050744</td>\n",
              "      <td>0.387086</td>\n",
              "      <td>1.507114</td>\n",
              "      <td>-1.507114</td>\n",
              "    </tr>\n",
              "    <tr>\n",
              "      <th>4013</th>\n",
              "      <td>-0.312771</td>\n",
              "      <td>0.890043</td>\n",
              "      <td>0.341995</td>\n",
              "      <td>0.480940</td>\n",
              "      <td>-0.663520</td>\n",
              "      <td>0.663520</td>\n",
              "    </tr>\n",
              "  </tbody>\n",
              "</table>\n",
              "<p>4014 rows × 6 columns</p>\n",
              "</div>"
            ],
            "text/plain": [
              "      ManufacturingDate  Engine_l  ...  Gearbox_Automatic  Gearbox_Manual\n",
              "0              1.788422 -0.858248  ...          -0.663520        0.663520\n",
              "1              0.912925 -0.683419  ...          -0.663520        0.663520\n",
              "2             -0.312771  1.764188  ...           1.507114       -1.507114\n",
              "3              1.788422 -0.858248  ...          -0.663520        0.663520\n",
              "4              1.788422 -0.858248  ...          -0.663520        0.663520\n",
              "...                 ...       ...  ...                ...             ...\n",
              "4009           0.037428 -0.683419  ...          -0.663520        0.663520\n",
              "4010          -0.137672 -0.333761  ...           1.507114       -1.507114\n",
              "4011          -0.487870 -0.158932  ...          -0.663520        0.663520\n",
              "4012          -0.662970  0.715214  ...           1.507114       -1.507114\n",
              "4013          -0.312771  0.890043  ...          -0.663520        0.663520\n",
              "\n",
              "[4014 rows x 6 columns]"
            ]
          },
          "metadata": {
            "tags": []
          },
          "execution_count": 84
        }
      ]
    },
    {
      "cell_type": "code",
      "metadata": {
        "id": "Y5uHxUyMiUdV"
      },
      "source": [
        "#dividing dataset into train and test subsets\n",
        "\n",
        "from sklearn.model_selection import train_test_split\n",
        "x_train2, x_test2, y_train2, y_test2 = train_test_split(data[features], data.Price_euro, random_state=8, train_size=0.7)"
      ],
      "execution_count": null,
      "outputs": []
    },
    {
      "cell_type": "code",
      "metadata": {
        "id": "TWRxtSfciXB8",
        "colab": {
          "base_uri": "https://localhost:8080/"
        },
        "outputId": "3b013a87-e08a-474c-9aa5-7707352158e3"
      },
      "source": [
        "#training the regression model\n",
        "from sklearn.linear_model import LinearRegression\n",
        "\n",
        "scaled_model = LinearRegression()\n",
        "scaled_model.fit(x_train2, y_train2)"
      ],
      "execution_count": null,
      "outputs": [
        {
          "output_type": "execute_result",
          "data": {
            "text/plain": [
              "LinearRegression(copy_X=True, fit_intercept=True, n_jobs=None, normalize=False)"
            ]
          },
          "metadata": {
            "tags": []
          },
          "execution_count": 86
        }
      ]
    },
    {
      "cell_type": "code",
      "metadata": {
        "id": "q_bmMb8Ol9UD",
        "colab": {
          "base_uri": "https://localhost:8080/"
        },
        "outputId": "5bca4893-b94e-4076-8e1a-7577d296ab3b"
      },
      "source": [
        "# evaluating the trained model\n",
        "from sklearn.metrics import mean_squared_error, r2_score\n",
        "import numpy as np\n",
        "\n",
        "predicted2 = scaled_model.predict(x_test2)\n",
        "expected2 = y_test2\n",
        "\n",
        "print(f\"Mean Squared Error: {round(mean_squared_error(expected2, predicted2), 2)}\")\n",
        "print(f\"R2 Score: {round(r2_score(expected2, predicted2), 2)}\")"
      ],
      "execution_count": null,
      "outputs": [
        {
          "output_type": "stream",
          "text": [
            "Mean Squared Error: 22103703.44\n",
            "R2 Score: 0.58\n"
          ],
          "name": "stdout"
        }
      ]
    },
    {
      "cell_type": "code",
      "metadata": {
        "id": "n3BvISwJRSwd"
      },
      "source": [
        "# saving model to file\n",
        "pickle.dump(lrmodel, open(\"model\\lrmodel.pkl\", \"wb\"))\n",
        "\n",
        "# saving scaler to file\n",
        "pickle.dump(scaler, open(\"model\\scaler.pkl\", \"wb\"))"
      ],
      "execution_count": null,
      "outputs": []
    },
    {
      "cell_type": "markdown",
      "metadata": {
        "id": "TD3GvO-4PkWU"
      },
      "source": [
        "### Creating API for the trained model\n",
        "This is the step you have done at least couple of times. You will need to create API using Flask. While creating the application you will need to do these things:\n",
        "- Load trained model\n",
        "- Create inference pipeline\n",
        "- Create `POST` route to reach model and send it's outputs as response\n",
        "\n",
        "### Tracking model's predictions\n",
        "Now you will need to enable model's predictions tracking. During this step you will need to connect your flask application to PostgreSQL database hosted by Heroku and put model's inputs and outputs into one table:\n",
        "- Create PostgreSQL database hosted by Heroku\n",
        "- Create table for predictions tracking. There should be columns for inputs and outputs of model\n",
        "- At every request of model insert required values to the database\n",
        "- Create new route in Flask application that returns 10 most recent requests and responses in JSON format\n",
        "\n",
        "### Deploying the application\n",
        "After completing all the steps required above, you will need to deploy your application to Heroku. You will need to follow steps provided in the fourth lesson of this sprint.\n",
        "- Make sure all secrets and passwords are set as ENV variables in Heroku\n",
        "- Deploy application to Heroku\n",
        "- Ensure that you application is accessible (provide link to it)"
      ]
    },
    {
      "cell_type": "markdown",
      "metadata": {
        "id": "2qPagtS4bTmR"
      },
      "source": [
        "## Evaluation criteria\n",
        "- All requirements are met\n",
        "- The project is well thought out. Defined problem is clearly presented\n",
        "- Model actually works, is able to make predictions that make sense\n",
        "- Written code is clear and clean. All the PEP8 standards are met"
      ]
    }
  ]
}